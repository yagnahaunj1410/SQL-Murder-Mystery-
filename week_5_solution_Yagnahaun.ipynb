{
  "nbformat": 4,
  "nbformat_minor": 0,
  "metadata": {
    "colab": {
      "provenance": []
    },
    "kernelspec": {
      "name": "python3",
      "display_name": "Python 3"
    },
    "language_info": {
      "name": "python"
    }
  },
  "cells": [
    {
      "cell_type": "code",
      "source": [
        "from google.colab import drive\n",
        "drive.mount('/content/drive')"
      ],
      "metadata": {
        "colab": {
          "base_uri": "https://localhost:8080/"
        },
        "id": "VowbHKmTBx4k",
        "outputId": "4bf79459-f434-4cb3-f15e-8132281617fa"
      },
      "execution_count": 2,
      "outputs": [
        {
          "output_type": "stream",
          "name": "stdout",
          "text": [
            "Mounted at /content/drive\n"
          ]
        }
      ]
    },
    {
      "cell_type": "code",
      "execution_count": 3,
      "metadata": {
        "id": "aigPCpZTBXz_"
      },
      "outputs": [],
      "source": [
        "import sqlite3\n",
        "import pandas as pd\n",
        "\n",
        "# Connect to the database\n",
        "conn = sqlite3.connect('/content/drive/MyDrive/5. Week 5 - SQL & Web Scrapping/sql-murder-mystery.db')  # Change this to your actual path\n",
        "cursor = conn.cursor()\n",
        "\n",
        "# Function to run SQL queries and display results\n",
        "def run_query(query):\n",
        "    return pd.read_sql_query(query, conn)"
      ]
    },
    {
      "cell_type": "code",
      "source": [
        "# List all tables in the database\n",
        "tables_query = \"SELECT name FROM sqlite_master WHERE type='table';\"\n",
        "tables = run_query(tables_query)\n",
        "print(\"Tables in the database:\")\n",
        "print(tables)"
      ],
      "metadata": {
        "colab": {
          "base_uri": "https://localhost:8080/"
        },
        "id": "8NZFd9I7FoZG",
        "outputId": "9510e70e-4194-4e0c-ab78-85862c1ec4ee"
      },
      "execution_count": 43,
      "outputs": [
        {
          "output_type": "stream",
          "name": "stdout",
          "text": [
            "Tables in the database:\n",
            "                     name\n",
            "0      crime_scene_report\n",
            "1         drivers_license\n",
            "2                  person\n",
            "3  facebook_event_checkin\n",
            "4               interview\n",
            "5      get_fit_now_member\n",
            "6    get_fit_now_check_in\n",
            "7                  income\n",
            "8                solution\n"
          ]
        }
      ]
    },
    {
      "cell_type": "code",
      "source": [
        "# Retrieve the crime scene report\n",
        "crime_scene_query = \"\"\"\n",
        "SELECT *\n",
        "FROM crime_scene_report\n",
        "WHERE city = \"SQL City\" and type = \"murder\"\n",
        "ORDER BY date;\n",
        "\"\"\"\n",
        "crime_scene_report = run_query(crime_scene_query)\n",
        "print(\"Crime Scene Report:\")\n",
        "print(crime_scene_report)"
      ],
      "metadata": {
        "colab": {
          "base_uri": "https://localhost:8080/"
        },
        "id": "QowQiPILCvec",
        "outputId": "8c7b86c6-794b-4b4d-8ac4-95d7aee7c8b7"
      },
      "execution_count": 20,
      "outputs": [
        {
          "output_type": "stream",
          "name": "stdout",
          "text": [
            "Crime Scene Report:\n",
            "       date    type  \\\n",
            "0  20180115  murder   \n",
            "1  20180215  murder   \n",
            "2  20180215  murder   \n",
            "\n",
            "                                                                                                                                                                                 description  \\\n",
            "0  Security footage shows that there were 2 witnesses. The first witness lives at the last house on \"Northwestern Dr\". The second witness, named Annabel, lives somewhere on \"Franklin Ave\".   \n",
            "1                                                                                                                                                                 REDACTED REDACTED REDACTED   \n",
            "2                                                                                                                                    Someone killed the guard! He took an arrow to the knee!   \n",
            "\n",
            "       city  \n",
            "0  SQL City  \n",
            "1  SQL City  \n",
            "2  SQL City  \n"
          ]
        }
      ]
    },
    {
      "cell_type": "code",
      "source": [
        "# Get witness personal details\n",
        "# One witness lives at the last house on \"Northwestern Dr\"\n",
        "witness1_query = \"\"\"\n",
        "SELECT *\n",
        "FROM person\n",
        "WHERE address_street_name = 'Northwestern Dr'\n",
        "ORDER BY address_number DESC\n",
        "LIMIT 1\n",
        "\"\"\"\n",
        "witness1 = run_query(witness1_query)\n",
        "print(\"\\nWitness 1 Personal Details:\")\n",
        "print(witness1)\n",
        "\n",
        "# The second witness, named Annabel, lives somewhere on \"Franklin Ave\"\n",
        "witness2_query = \"\"\"\n",
        "SELECT *\n",
        "FROM person\n",
        "WHERE name LIKE 'Annabel%' AND address_street_name = 'Franklin Ave'\n",
        "\"\"\"\n",
        "witness2 = run_query(witness2_query)\n",
        "print(\"\\nWitness 2 Personal Details:\")\n",
        "print(witness2)"
      ],
      "metadata": {
        "colab": {
          "base_uri": "https://localhost:8080/"
        },
        "id": "sq4Y-mjPD5pB",
        "outputId": "dedf3c81-70b9-4bc0-f348-d514c9e748ec"
      },
      "execution_count": 19,
      "outputs": [
        {
          "output_type": "stream",
          "name": "stdout",
          "text": [
            "\n",
            "Witness 1 Personal Details:\n",
            "      id            name  license_id  address_number address_street_name  \\\n",
            "0  14887  Morty Schapiro      118009            4919     Northwestern Dr   \n",
            "\n",
            "         ssn  \n",
            "0  111564949  \n",
            "\n",
            "Witness 2 Personal Details:\n",
            "      id            name  license_id  address_number address_street_name  \\\n",
            "0  16371  Annabel Miller      490173             103        Franklin Ave   \n",
            "\n",
            "         ssn  \n",
            "0  318771143  \n"
          ]
        }
      ]
    },
    {
      "cell_type": "code",
      "source": [
        "witness_ids = witness1['id'].tolist() + witness2['id'].tolist()\n",
        "print(witness_ids)"
      ],
      "metadata": {
        "colab": {
          "base_uri": "https://localhost:8080/"
        },
        "id": "hEZJTT_YH9BO",
        "outputId": "3ce6ef61-6f15-49a2-cfa9-8ce64738c4b7"
      },
      "execution_count": 23,
      "outputs": [
        {
          "output_type": "stream",
          "name": "stdout",
          "text": [
            "[14887, 16371]\n"
          ]
        }
      ]
    },
    {
      "cell_type": "code",
      "source": [
        "# View witness interviews\n",
        "witness_interviews_query = f\"\"\"\n",
        "SELECT *\n",
        "FROM interview\n",
        "WHERE person_id IN ({','.join(map(str, witness_ids))})\n",
        "\"\"\"\n",
        "witness_interviews = run_query(witness_interviews_query)\n",
        "print(\"\\nWitness Interviews:\")\n",
        "print(witness_interviews)"
      ],
      "metadata": {
        "colab": {
          "base_uri": "https://localhost:8080/"
        },
        "id": "jJh3DWLQHIO0",
        "outputId": "241e258f-15b1-4c7a-df3c-b97ce39de277"
      },
      "execution_count": 26,
      "outputs": [
        {
          "output_type": "stream",
          "name": "stdout",
          "text": [
            "\n",
            "Witness Interviews:\n",
            "   person_id  \\\n",
            "0      14887   \n",
            "1      16371   \n",
            "\n",
            "                                                                                                                                                                                                                        transcript  \n",
            "0  I heard a gunshot and then saw a man run out. He had a \"Get Fit Now Gym\" bag. The membership number on the bag started with \"48Z\". Only gold members have those bags. The man got into a car with a plate that included \"H42W\".  \n",
            "1                                                                                                            I saw the murder happen, and I recognized the killer from my gym when I was working out last week on January the 9th.  \n"
          ]
        }
      ]
    },
    {
      "cell_type": "code",
      "source": [
        "# Check the gym database\n",
        "# Get gym memberships of the identified witnesses\n",
        "gym_database_query = f\"\"\"\n",
        "SELECT *\n",
        "FROM get_fit_now_member\n",
        "WHERE person_id IN ({','.join(map(str, witness_ids))})\n",
        "\"\"\"\n",
        "gym_database = run_query(gym_database_query)\n",
        "print(\"\\nGym Database:\")\n",
        "print(gym_database)"
      ],
      "metadata": {
        "colab": {
          "base_uri": "https://localhost:8080/"
        },
        "id": "ydVhoSBYJ7ly",
        "outputId": "422401ae-02ff-4c22-fe66-21b6b843d8a1"
      },
      "execution_count": 27,
      "outputs": [
        {
          "output_type": "stream",
          "name": "stdout",
          "text": [
            "\n",
            "Gym Database:\n",
            "      id  person_id            name  membership_start_date membership_status\n",
            "0  90081      16371  Annabel Miller               20160208              gold\n"
          ]
        }
      ]
    },
    {
      "cell_type": "code",
      "source": [
        "# check gold membership and check in time\n",
        "check_in_query = \"\"\"SELECT *\n",
        "FROM get_fit_now_check_in\n",
        "WHERE membership_id like '%48Z%' AND check_in_date = 20180109\n",
        "ORDER By check_in_date;\"\"\"\n",
        "\n",
        "check_in_reports = run_query(check_in_query)\n",
        "print(\"\\nCheck in Times:\")\n",
        "print(check_in_reports)"
      ],
      "metadata": {
        "colab": {
          "base_uri": "https://localhost:8080/"
        },
        "id": "M_c1AvcfNIFE",
        "outputId": "84b27582-eac5-4250-aea7-33c699185101"
      },
      "execution_count": 29,
      "outputs": [
        {
          "output_type": "stream",
          "name": "stdout",
          "text": [
            "\n",
            "Check in Times:\n",
            "  membership_id  check_in_date  check_in_time  check_out_time\n",
            "0         48Z7A       20180109           1600            1730\n",
            "1         48Z55       20180109           1530            1700\n"
          ]
        }
      ]
    },
    {
      "cell_type": "code",
      "source": [
        "# Check car details\n",
        "# Get car details of the identified witnesses\n",
        "car_details_query = f\"\"\"\n",
        "SELECT *\n",
        "FROM drivers_license\n",
        "WHERE plate_number like \"%H42W%\";\n",
        "\"\"\"\n",
        "car_details = run_query(car_details_query)\n",
        "print(\"\\nCar Details:\")\n",
        "print(car_details)"
      ],
      "metadata": {
        "colab": {
          "base_uri": "https://localhost:8080/"
        },
        "id": "0cMjwJ_hKFzt",
        "outputId": "6c370cf5-6b63-454b-a4cc-5f2222bdf271"
      },
      "execution_count": 30,
      "outputs": [
        {
          "output_type": "stream",
          "name": "stdout",
          "text": [
            "\n",
            "Car Details:\n",
            "       id  age  height eye_color hair_color  gender plate_number   car_make  \\\n",
            "0  183779   21      65      blue     blonde  female       H42W0X     Toyota   \n",
            "1  423327   30      70     brown      brown    male       0H42W2  Chevrolet   \n",
            "2  664760   21      71     black      black    male       4H42WR     Nissan   \n",
            "\n",
            "  car_model  \n",
            "0     Prius  \n",
            "1  Spark LS  \n",
            "2    Altima  \n"
          ]
        }
      ]
    },
    {
      "cell_type": "code",
      "source": [
        "# The killer is a male so selecting id = 423327 and 664760\n",
        "details_by_witness_query = \"\"\"\n",
        "SELECT *\n",
        "FROM Person\n",
        "WHERE license_id =\"423327\" OR license_id =\"664760\";\n",
        "\"\"\"\n",
        "\n",
        "witness_reported_details = run_query(details_by_witness_query)\n",
        "print(\"\\n Details Mentioned:\")\n",
        "print(witness_reported_details)"
      ],
      "metadata": {
        "colab": {
          "base_uri": "https://localhost:8080/"
        },
        "id": "eJ06g0J9N0OJ",
        "outputId": "4cdefc09-8409-4231-f585-161ebafbce3e"
      },
      "execution_count": 32,
      "outputs": [
        {
          "output_type": "stream",
          "name": "stdout",
          "text": [
            "\n",
            " Details Mentioned:\n",
            "      id            name  license_id  address_number    address_street_name  \\\n",
            "0  51739  Tushar Chandra      664760             312                 Phi St   \n",
            "1  67318   Jeremy Bowers      423327             530  Washington Pl, Apt 3A   \n",
            "\n",
            "         ssn  \n",
            "0  137882671  \n",
            "1  871539279  \n"
          ]
        }
      ]
    },
    {
      "cell_type": "code",
      "source": [
        "# checking gold membership for the above mentioned persons\n",
        "check_gold_membership = \"\"\"\n",
        "SELECT *\n",
        "FROM get_fit_now_member\n",
        "WHERE person_id =\"51739\" OR person_id =\"67318\";\n",
        "\"\"\"\n",
        "\n",
        "gold_membership_details = run_query(check_gold_membership)\n",
        "print(\"\\n Members with gold:\")\n",
        "print(gold_membership_details)"
      ],
      "metadata": {
        "colab": {
          "base_uri": "https://localhost:8080/"
        },
        "id": "tR2i5rfNQYuz",
        "outputId": "2626a8e3-5634-4e2f-d16a-0104c818645d"
      },
      "execution_count": 34,
      "outputs": [
        {
          "output_type": "stream",
          "name": "stdout",
          "text": [
            "\n",
            " Members with gold:\n",
            "      id  person_id           name  membership_start_date membership_status\n",
            "0  48Z55      67318  Jeremy Bowers               20160101              gold\n"
          ]
        }
      ]
    },
    {
      "cell_type": "code",
      "source": [
        "#checking for testimony given by the above person\n",
        "murder_testimony = \"\"\"\n",
        "SELECT *\n",
        "FROM interview\n",
        "WHERE person_id = 67318;\n",
        "\"\"\"\n",
        "\n",
        "murderer_testimony = run_query(murder_testimony)\n",
        "print(\"\\nTestimony:\")\n",
        "print(murderer_testimony)"
      ],
      "metadata": {
        "colab": {
          "base_uri": "https://localhost:8080/"
        },
        "id": "rgxkJP58Q8ZV",
        "outputId": "e8ba0ee6-67b3-436f-8729-63912833b2b6"
      },
      "execution_count": 37,
      "outputs": [
        {
          "output_type": "stream",
          "name": "stdout",
          "text": [
            "\n",
            "Testimony:\n",
            "   person_id  \\\n",
            "0      67318   \n",
            "\n",
            "                                                                                                                                                                                                                                           transcript  \n",
            "0  I was hired by a woman with a lot of money. I don't know her name but I know she's around 5'5\" (65\") or 5'7\" (67\"). She has red hair and she drives a Tesla Model S. I know that she attended the SQL Symphony Concert 3 times in December 2017.\\n  \n"
          ]
        }
      ]
    },
    {
      "cell_type": "code",
      "source": [
        "# checking for the persons driver licence who hired the murderer\n",
        "murder_hire_licence_details = \"\"\"\n",
        "SELECT *\n",
        "FROM drivers_license\n",
        "WHERE car_make = \"Tesla\" AND car_model = \"Model S\" AND gender = \"female\"\n",
        "AND hair_color = \"red\";\n",
        "\"\"\"\n",
        "\n",
        "details_hire = run_query(murder_hire_licence_details)\n",
        "print(\"\\nPossible hirees driver licences:\")\n",
        "print(details_hire)"
      ],
      "metadata": {
        "colab": {
          "base_uri": "https://localhost:8080/"
        },
        "id": "wCN6j6XoReqK",
        "outputId": "6a94935f-d73e-4c5c-b8a4-4274d1537d90"
      },
      "execution_count": 39,
      "outputs": [
        {
          "output_type": "stream",
          "name": "stdout",
          "text": [
            "\n",
            "Possible hirees:\n",
            "       id  age  height eye_color hair_color  gender plate_number car_make  \\\n",
            "0  202298   68      66     green        red  female       500123    Tesla   \n",
            "1  291182   65      66      blue        red  female       08CM64    Tesla   \n",
            "2  918773   48      65     black        red  female       917UU3    Tesla   \n",
            "\n",
            "  car_model  \n",
            "0   Model S  \n",
            "1   Model S  \n",
            "2   Model S  \n"
          ]
        }
      ]
    },
    {
      "cell_type": "code",
      "source": [
        "# checking for the hiree details\n",
        "hiree_details = \"\"\"\n",
        "SELECT *\n",
        "FROM Person\n",
        "WHERE license_id =\"202298\" OR license_id =\"291182\" OR license_id =\"918773\";\n",
        "\"\"\"\n",
        "\n",
        "person_details = run_query(hiree_details)\n",
        "print(\"\\nPossible Hirees:\")\n",
        "print(person_details)"
      ],
      "metadata": {
        "colab": {
          "base_uri": "https://localhost:8080/"
        },
        "id": "86HhP6GZSZUy",
        "outputId": "b1be76d7-2b3a-4bf4-898c-552987af6678"
      },
      "execution_count": 40,
      "outputs": [
        {
          "output_type": "stream",
          "name": "stdout",
          "text": [
            "\n",
            "Possible Hirees:\n",
            "      id              name  license_id  address_number address_street_name  \\\n",
            "0  78881          Red Korb      918773             107         Camerata Dr   \n",
            "1  90700     Regina George      291182             332           Maple Ave   \n",
            "2  99716  Miranda Priestly      202298            1883          Golden Ave   \n",
            "\n",
            "         ssn  \n",
            "0  961388910  \n",
            "1  337169072  \n",
            "2  987756388  \n"
          ]
        }
      ]
    },
    {
      "cell_type": "code",
      "source": [
        "# Getting details of the person who went to concert 3 times\n",
        "person_concert_details = \"\"\"\n",
        "SELECT person_id, count(*),event_name\n",
        "FROM facebook_event_checkin\n",
        "Group BY person_id\n",
        "having count(*) = 3 AND event_name = \"SQL Symphony Concert\" AND date like '%201712%';\n",
        "\"\"\"\n",
        "\n",
        "concert_attended = run_query(person_concert_details)\n",
        "print(\"Persons who attended concert 3 times: \")\n",
        "print(concert_attended)"
      ],
      "metadata": {
        "colab": {
          "base_uri": "https://localhost:8080/"
        },
        "id": "3gRlGAk6S3Gf",
        "outputId": "e00586eb-51f5-4b9d-e72b-8ea165ffe3c4"
      },
      "execution_count": 41,
      "outputs": [
        {
          "output_type": "stream",
          "name": "stdout",
          "text": [
            "Persons who attended concert 3 times: \n",
            "   person_id  count(*)            event_name\n",
            "0      24556         3  SQL Symphony Concert\n",
            "1      99716         3  SQL Symphony Concert\n"
          ]
        }
      ]
    },
    {
      "cell_type": "code",
      "source": [
        "print(\"From the above two queries the person id that is common is 99716\")\n",
        "print(\"So the killer was hired by person id : 99716, i.e; Miranda Priestly\")"
      ],
      "metadata": {
        "colab": {
          "base_uri": "https://localhost:8080/"
        },
        "id": "nj49E0ODTSGl",
        "outputId": "ea39b205-87e7-4484-87f8-5b3136db0cea"
      },
      "execution_count": 42,
      "outputs": [
        {
          "output_type": "stream",
          "name": "stdout",
          "text": [
            "From the above two queries the person id that is common is 99716\n",
            "So the killer was hired by person id : 99716, i.e; Miranda Priestly\n"
          ]
        }
      ]
    }
  ]
}